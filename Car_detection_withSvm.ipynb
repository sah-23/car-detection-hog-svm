{
 "cells": [
  {
   "cell_type": "code",
   "execution_count": null,
   "metadata": {},
   "outputs": [],
   "source": [
    "import numpy as np\n",
    "import cv2 as cv\n",
    "import glob\n",
    "import os\n",
    "from sklearn.model_selection import train_test_split\n",
    "from sklearn import svm\n",
    "from sklearn.metrics import accuracy_score\n",
    "\n",
    "DATA_DIR = os.getenv(\"DATA_DIR\", \"data\")\n",
    "TEST_DIR = os.path.join(DATA_DIR, \"Test\")"
   ]
  },
  {
   "cell_type": "code",
   "execution_count": null,
   "metadata": {},
   "outputs": [],
   "source": [
    "data = os.path.join(DATA_DIR, \"Train\", \"*\")"
   ]
  },
  {
   "cell_type": "code",
   "execution_count": 6,
   "metadata": {},
   "outputs": [],
   "source": [
    "pics=[]\n",
    "labels=[]"
   ]
  },
  {
   "cell_type": "code",
   "execution_count": null,
   "metadata": {},
   "outputs": [],
   "source": [
    "for i in glob.glob(data+\"\\\\*\"):\n",
    "    img=cv.imread(i)\n",
    "    print(i)\n",
    "    r_img=cv.resize(img,(10,10)).flatten()\n",
    "    print(r_img)\n",
    "    pics.append(r_img)\n",
    "    label=i.split(\"\\\\\")[-2]\n",
    "    labels.append(label)\n",
    "pics=np.array(pics)"
   ]
  },
  {
   "cell_type": "code",
   "execution_count": null,
   "metadata": {},
   "outputs": [],
   "source": [
    "for i in range(1,25):\n",
    "    model=svm.SVC(kernel='linear')\n",
    "    x_train,x_test,y_train,y_test=train_test_split(pics,labels,train_size=0.00099,random_state=5)\n",
    "    model.fit(x_train,y_train)\n",
    "    print('%0.2f'%(model.score)*100)"
   ]
  },
  {
   "cell_type": "code",
   "execution_count": null,
   "metadata": {},
   "outputs": [],
   "source": [
    "address2 = os.path.join(DATA_DIR, \"Test\", \"*\")"
   ]
  },
  {
   "cell_type": "code",
   "execution_count": null,
   "metadata": {},
   "outputs": [],
   "source": [
    "for j in glob.glob(address2+\"\\\\*\"):\n",
    "    img=cv.imread(j)\n",
    "    r_img=cv.resize(img,(10,10)).flatten()\n",
    "    print(model.predict([img]))"
   ]
  },
  {
   "cell_type": "code",
   "execution_count": null,
   "metadata": {},
   "outputs": [],
   "source": [
    "data2 = os.path.join(DATA_DIR, \"Test\", \"*\")"
   ]
  },
  {
   "cell_type": "code",
   "execution_count": null,
   "metadata": {},
   "outputs": [],
   "source": [
    "img2=cv.read(data2)\n",
    "r_img2=cv.resize(img2,(10,10)).flatten()\n",
    "pics=np.array(r_img2)/225.0\n",
    "pics.shape()"
   ]
  },
  {
   "cell_type": "code",
   "execution_count": null,
   "metadata": {},
   "outputs": [],
   "source": [
    "test=model.predict(np.expand_dims(pics,axis=0))"
   ]
  },
  {
   "cell_type": "code",
   "execution_count": null,
   "metadata": {},
   "outputs": [],
   "source": [
    "car=test[0][0]\n",
    "non_car=test[0][1]\n",
    "if car>non_car:\n",
    "    print('car detected')\n",
    "elif non_car>car:\n",
    "    print('no cars detected')"
   ]
  }
 ],
 "metadata": {
  "kernelspec": {
   "display_name": "base",
   "language": "python",
   "name": "python3"
  },
  "language_info": {
   "codemirror_mode": {
    "name": "ipython",
    "version": 3
   },
   "file_extension": ".py",
   "mimetype": "text/x-python",
   "name": "python",
   "nbconvert_exporter": "python",
   "pygments_lexer": "ipython3",
   "version": "3.12.7"
  }
 },
 "nbformat": 4,
 "nbformat_minor": 2
}
